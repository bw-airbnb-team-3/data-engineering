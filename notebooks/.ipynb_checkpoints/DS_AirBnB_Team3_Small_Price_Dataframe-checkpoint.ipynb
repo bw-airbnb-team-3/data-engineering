{
 "cells": [
  {
   "cell_type": "code",
   "execution_count": 2,
   "metadata": {
    "colab": {},
    "colab_type": "code",
    "id": "7DMnlONXBiBv"
   },
   "outputs": [],
   "source": [
    "import numpy as np\n",
    "import pandas as pd"
   ]
  },
  {
   "cell_type": "code",
   "execution_count": 3,
   "metadata": {
    "colab": {
     "base_uri": "https://localhost:8080/",
     "height": 72
    },
    "colab_type": "code",
    "id": "S2eDt0bHCQ2G",
    "outputId": "ab14a33a-a38f-492b-8992-89dada4e5bf1"
   },
   "outputs": [],
   "source": [
    "dec = pd.read_csv('http://data.insideairbnb.com/united-states/ca/los-angeles/2019-12-05/visualisations/listings.csv')\n",
    "nov = pd.read_csv('http://data.insideairbnb.com/united-states/ca/los-angeles/2019-11-19/visualisations/listings.csv')\n",
    "octo = pd.read_csv('http://data.insideairbnb.com/united-states/ca/los-angeles/2019-10-14/visualisations/listings.csv')\n",
    "sept = pd.read_csv('http://data.insideairbnb.com/united-states/ca/los-angeles/2019-09-14/visualisations/listings.csv')\n",
    "aug = pd.read_csv('http://data.insideairbnb.com/united-states/ca/los-angeles/2019-08-08/visualisations/listings.csv')\n",
    "july = pd.read_csv('http://data.insideairbnb.com/united-states/ca/los-angeles/2019-07-08/visualisations/listings.csv')\n",
    "june = pd.read_csv('http://data.insideairbnb.com/united-states/ca/los-angeles/2019-06-04/visualisations/listings.csv')\n",
    "may = pd.read_csv('http://data.insideairbnb.com/united-states/ca/los-angeles/2019-05-05/visualisations/listings.csv')\n",
    "april = pd.read_csv('http://data.insideairbnb.com/united-states/ca/los-angeles/2019-04-05/visualisations/listings.csv')\n",
    "march = pd.read_csv('http://data.insideairbnb.com/united-states/ca/los-angeles/2019-03-06/visualisations/listings.csv')\n",
    "feb = pd.read_csv('http://data.insideairbnb.com/united-states/ca/los-angeles/2019-02-03/visualisations/listings.csv')\n",
    "jan = pd.read_csv('http://data.insideairbnb.com/united-states/ca/los-angeles/2019-01-11/visualisations/listings.csv')"
   ]
  },
  {
   "cell_type": "code",
   "execution_count": 39,
   "metadata": {
    "colab": {
     "base_uri": "https://localhost:8080/",
     "height": 34
    },
    "colab_type": "code",
    "id": "y1Py5_lKCbmZ",
    "outputId": "60b8c16b-ddc4-41db-e795-5952797f1110"
   },
   "outputs": [
    {
     "name": "stdout",
     "output_type": "stream",
     "text": [
      "43342\n",
      "43669\n",
      "43143\n",
      "43390\n",
      "43903\n",
      "44478\n",
      "44570\n",
      "44938\n",
      "44986\n",
      "44380\n",
      "40899\n",
      "40125\n"
     ]
    }
   ],
   "source": [
    "df_list = [jan, feb, march, april, may, june, july, aug, sept, octo, nov, dec]\n",
    "\n",
    "for x in df_list:\n",
    "    print(len(x['price']))"
   ]
  },
  {
   "cell_type": "code",
   "execution_count": 5,
   "metadata": {},
   "outputs": [
    {
     "data": {
      "text/plain": [
       "Index(['id', 'name', 'host_id', 'host_name', 'neighbourhood_group',\n",
       "       'neighbourhood', 'latitude', 'longitude', 'room_type', 'price',\n",
       "       'minimum_nights', 'number_of_reviews', 'last_review',\n",
       "       'reviews_per_month', 'calculated_host_listings_count',\n",
       "       'availability_365'],\n",
       "      dtype='object')"
      ]
     },
     "execution_count": 5,
     "metadata": {},
     "output_type": "execute_result"
    }
   ],
   "source": [
    "jan.columns"
   ]
  },
  {
   "cell_type": "code",
   "execution_count": 30,
   "metadata": {
    "colab": {
     "base_uri": "https://localhost:8080/",
     "height": 664
    },
    "colab_type": "code",
    "id": "5sCmSzK4CVkE",
    "outputId": "5dd6dca2-d72f-44cc-b1c0-5808bace1d60"
   },
   "outputs": [],
   "source": [
    "price = pd.merge(jan, feb[['id','price']],on='id', how='left', suffixes=['_jan', '_feb'])\n",
    "price = pd.merge(price, march[['id','price']],on='id', how='left', suffixes=['_feb', '_mar'])\n",
    "price = pd.merge(price, april[['id','price']], on='id', how='left', suffixes=['_mar', '_apr'])"
   ]
  },
  {
   "cell_type": "code",
   "execution_count": 7,
   "metadata": {},
   "outputs": [],
   "source": [
    "def add_columns(df, monthlist):\n",
    "    names = ['jan', 'feb', 'mar', 'apr', 'may', 'jun', 'jul', 'aug', 'sep', 'oct', 'nov', 'dec']\n",
    "    for ii in range(len(monthlist)):\n",
    "        df[names[ii]] = monthlist[ii]['price']\n",
    "    return df\n"
   ]
  },
  {
   "cell_type": "code",
   "execution_count": 31,
   "metadata": {},
   "outputs": [
    {
     "data": {
      "text/plain": [
       "Index(['id', 'name', 'host_id', 'host_name', 'neighbourhood_group',\n",
       "       'neighbourhood', 'latitude', 'longitude', 'room_type', 'price_jan',\n",
       "       'minimum_nights', 'number_of_reviews', 'last_review',\n",
       "       'reviews_per_month', 'calculated_host_listings_count',\n",
       "       'availability_365', 'price_feb', 'price_mar', 'price_apr'],\n",
       "      dtype='object')"
      ]
     },
     "execution_count": 31,
     "metadata": {},
     "output_type": "execute_result"
    }
   ],
   "source": [
    "price.columns"
   ]
  },
  {
   "cell_type": "code",
   "execution_count": 32,
   "metadata": {},
   "outputs": [
    {
     "data": {
      "text/plain": [
       "id                                   0\n",
       "name                                 4\n",
       "host_id                              0\n",
       "host_name                            2\n",
       "neighbourhood_group                  0\n",
       "neighbourhood                        0\n",
       "latitude                             0\n",
       "longitude                            0\n",
       "room_type                            0\n",
       "price_jan                            0\n",
       "minimum_nights                       0\n",
       "number_of_reviews                    0\n",
       "last_review                       8356\n",
       "reviews_per_month                 8356\n",
       "calculated_host_listings_count       0\n",
       "availability_365                     0\n",
       "price_feb                         2412\n",
       "price_mar                         4900\n",
       "price_apr                         6597\n",
       "dtype: int64"
      ]
     },
     "execution_count": 32,
     "metadata": {},
     "output_type": "execute_result"
    }
   ],
   "source": [
    "price.isna().sum()"
   ]
  },
  {
   "cell_type": "code",
   "execution_count": 33,
   "metadata": {},
   "outputs": [
    {
     "name": "stdout",
     "output_type": "stream",
     "text": [
      "43342 40125\n"
     ]
    }
   ],
   "source": [
    "print(len(price), len(dec))"
   ]
  },
  {
   "cell_type": "code",
   "execution_count": 35,
   "metadata": {},
   "outputs": [
    {
     "data": {
      "text/plain": [
       "43390"
      ]
     },
     "execution_count": 35,
     "metadata": {},
     "output_type": "execute_result"
    }
   ],
   "source": [
    "len(april)"
   ]
  },
  {
   "cell_type": "code",
   "execution_count": 37,
   "metadata": {},
   "outputs": [
    {
     "data": {
      "text/plain": [
       "40125"
      ]
     },
     "execution_count": 37,
     "metadata": {},
     "output_type": "execute_result"
    }
   ],
   "source": [
    "len(dec)"
   ]
  },
  {
   "cell_type": "code",
   "execution_count": 34,
   "metadata": {},
   "outputs": [
    {
     "data": {
      "text/plain": [
       "0"
      ]
     },
     "execution_count": 34,
     "metadata": {},
     "output_type": "execute_result"
    }
   ],
   "source": [
    "price['id'].isna().sum()"
   ]
  },
  {
   "cell_type": "code",
   "execution_count": null,
   "metadata": {},
   "outputs": [],
   "source": []
  }
 ],
 "metadata": {
  "colab": {
   "collapsed_sections": [],
   "name": "DS-AirBnB-Team3.ipynb",
   "provenance": []
  },
  "kernelspec": {
   "display_name": "Python 3",
   "language": "python",
   "name": "python3"
  },
  "language_info": {
   "codemirror_mode": {
    "name": "ipython",
    "version": 3
   },
   "file_extension": ".py",
   "mimetype": "text/x-python",
   "name": "python",
   "nbconvert_exporter": "python",
   "pygments_lexer": "ipython3",
   "version": "3.7.3"
  }
 },
 "nbformat": 4,
 "nbformat_minor": 1
}
