{
 "cells": [
  {
   "cell_type": "code",
   "execution_count": 5,
   "metadata": {
    "colab": {},
    "colab_type": "code",
    "id": "7DMnlONXBiBv"
   },
   "outputs": [],
   "source": [
    "import numpy as np\n",
    "import pandas as pd"
   ]
  },
  {
   "cell_type": "code",
   "execution_count": 70,
   "metadata": {
    "colab": {
     "base_uri": "https://localhost:8080/",
     "height": 72
    },
    "colab_type": "code",
    "id": "S2eDt0bHCQ2G",
    "outputId": "ab14a33a-a38f-492b-8992-89dada4e5bf1"
   },
   "outputs": [],
   "source": [
    "dec = pd.read_csv('http://data.insideairbnb.com/united-states/ca/los-angeles/2019-12-05/visualisations/listings.csv')\n",
    "nov = pd.read_csv('http://data.insideairbnb.com/united-states/ca/los-angeles/2019-11-19/visualisations/listings.csv')\n",
    "octo = pd.read_csv('http://data.insideairbnb.com/united-states/ca/los-angeles/2019-10-14/visualisations/listings.csv')\n",
    "sept = pd.read_csv('http://data.insideairbnb.com/united-states/ca/los-angeles/2019-09-14/visualisations/listings.csv')\n",
    "aug = pd.read_csv('http://data.insideairbnb.com/united-states/ca/los-angeles/2019-08-08/visualisations/listings.csv')\n",
    "july = pd.read_csv('http://data.insideairbnb.com/united-states/ca/los-angeles/2019-07-08/visualisations/listings.csv')\n",
    "june = pd.read_csv('http://data.insideairbnb.com/united-states/ca/los-angeles/2019-06-04/visualisations/listings.csv')\n",
    "may = pd.read_csv('http://data.insideairbnb.com/united-states/ca/los-angeles/2019-05-05/visualisations/listings.csv')\n",
    "april = pd.read_csv('http://data.insideairbnb.com/united-states/ca/los-angeles/2019-04-05/visualisations/listings.csv')\n",
    "march = pd.read_csv('http://data.insideairbnb.com/united-states/ca/los-angeles/2019-03-06/visualisations/listings.csv')\n",
    "feb = pd.read_csv('http://data.insideairbnb.com/united-states/ca/los-angeles/2019-02-03/visualisations/listings.csv')\n",
    "jan = pd.read_csv('http://data.insideairbnb.com/united-states/ca/los-angeles/2019-01-11/visualisations/listings.csv')"
   ]
  },
  {
   "cell_type": "code",
   "execution_count": 71,
   "metadata": {
    "colab": {
     "base_uri": "https://localhost:8080/",
     "height": 34
    },
    "colab_type": "code",
    "id": "y1Py5_lKCbmZ",
    "outputId": "60b8c16b-ddc4-41db-e795-5952797f1110"
   },
   "outputs": [
    {
     "name": "stdout",
     "output_type": "stream",
     "text": [
      "196.0366157537723\n",
      "188.02631157113743\n",
      "191.82708666527594\n",
      "199.07614657755244\n",
      "199.40949365646995\n",
      "199.5788254867575\n",
      "211.69943908458603\n",
      "213.58387111130892\n",
      "212.99893300137822\n",
      "216.91029743127535\n",
      "226.36861536956894\n",
      "225.84067289719627\n"
     ]
    }
   ],
   "source": [
    "df_list = [jan, feb, march, april, may, june, july, aug, sept, octo, nov, dec]\n",
    "\n",
    "for x in db_list:\n",
    "    print(x['price'].describe()['mean'])"
   ]
  },
  {
   "cell_type": "code",
   "execution_count": 84,
   "metadata": {
    "colab": {
     "base_uri": "https://localhost:8080/",
     "height": 664
    },
    "colab_type": "code",
    "id": "5sCmSzK4CVkE",
    "outputId": "5dd6dca2-d72f-44cc-b1c0-5808bace1d60"
   },
   "outputs": [],
   "source": [
    "price = pd.DataFrame()"
   ]
  },
  {
   "cell_type": "code",
   "execution_count": 85,
   "metadata": {},
   "outputs": [],
   "source": [
    "def add_columns(df, monthlist):\n",
    "    names = ['jan', 'feb', 'mar', 'apr', 'may', 'jun', 'jul', 'aug', 'sep', 'oct', 'nov', 'dec']\n",
    "    for ii in range(len(monthlist)):\n",
    "        df[names[ii]] = monthlist[ii]['price']\n",
    "    return df\n",
    "    "
   ]
  },
  {
   "cell_type": "code",
   "execution_count": 86,
   "metadata": {},
   "outputs": [],
   "source": [
    "price = add_columns(price, df_list)"
   ]
  },
  {
   "cell_type": "code",
   "execution_count": 92,
   "metadata": {},
   "outputs": [
    {
     "data": {
      "text/html": [
       "<div>\n",
       "<style scoped>\n",
       "    .dataframe tbody tr th:only-of-type {\n",
       "        vertical-align: middle;\n",
       "    }\n",
       "\n",
       "    .dataframe tbody tr th {\n",
       "        vertical-align: top;\n",
       "    }\n",
       "\n",
       "    .dataframe thead th {\n",
       "        text-align: right;\n",
       "    }\n",
       "</style>\n",
       "<table border=\"1\" class=\"dataframe\">\n",
       "  <thead>\n",
       "    <tr style=\"text-align: right;\">\n",
       "      <th></th>\n",
       "      <th>jan</th>\n",
       "      <th>feb</th>\n",
       "      <th>mar</th>\n",
       "      <th>apr</th>\n",
       "      <th>may</th>\n",
       "      <th>jun</th>\n",
       "      <th>jul</th>\n",
       "      <th>aug</th>\n",
       "      <th>sep</th>\n",
       "      <th>oct</th>\n",
       "      <th>nov</th>\n",
       "      <th>dec</th>\n",
       "    </tr>\n",
       "  </thead>\n",
       "  <tbody>\n",
       "    <tr>\n",
       "      <th>count</th>\n",
       "      <td>43342.000000</td>\n",
       "      <td>43342.000000</td>\n",
       "      <td>43143.000000</td>\n",
       "      <td>43342.000000</td>\n",
       "      <td>43342.000000</td>\n",
       "      <td>43342.000000</td>\n",
       "      <td>43342.000000</td>\n",
       "      <td>43342.000000</td>\n",
       "      <td>43342.000000</td>\n",
       "      <td>43342.000000</td>\n",
       "      <td>40899.000000</td>\n",
       "      <td>40125.000000</td>\n",
       "    </tr>\n",
       "    <tr>\n",
       "      <th>mean</th>\n",
       "      <td>196.036616</td>\n",
       "      <td>188.151400</td>\n",
       "      <td>191.827087</td>\n",
       "      <td>199.105164</td>\n",
       "      <td>199.811292</td>\n",
       "      <td>199.872479</td>\n",
       "      <td>212.029256</td>\n",
       "      <td>211.480273</td>\n",
       "      <td>213.302709</td>\n",
       "      <td>216.964307</td>\n",
       "      <td>226.368615</td>\n",
       "      <td>225.840673</td>\n",
       "    </tr>\n",
       "    <tr>\n",
       "      <th>std</th>\n",
       "      <td>522.801930</td>\n",
       "      <td>430.640424</td>\n",
       "      <td>450.926035</td>\n",
       "      <td>505.128006</td>\n",
       "      <td>500.483294</td>\n",
       "      <td>500.494987</td>\n",
       "      <td>581.518270</td>\n",
       "      <td>581.814268</td>\n",
       "      <td>592.164424</td>\n",
       "      <td>598.882398</td>\n",
       "      <td>652.409791</td>\n",
       "      <td>656.723597</td>\n",
       "    </tr>\n",
       "    <tr>\n",
       "      <th>min</th>\n",
       "      <td>0.000000</td>\n",
       "      <td>0.000000</td>\n",
       "      <td>0.000000</td>\n",
       "      <td>0.000000</td>\n",
       "      <td>0.000000</td>\n",
       "      <td>0.000000</td>\n",
       "      <td>0.000000</td>\n",
       "      <td>0.000000</td>\n",
       "      <td>0.000000</td>\n",
       "      <td>0.000000</td>\n",
       "      <td>0.000000</td>\n",
       "      <td>0.000000</td>\n",
       "    </tr>\n",
       "    <tr>\n",
       "      <th>25%</th>\n",
       "      <td>69.000000</td>\n",
       "      <td>69.000000</td>\n",
       "      <td>69.000000</td>\n",
       "      <td>70.000000</td>\n",
       "      <td>70.000000</td>\n",
       "      <td>70.000000</td>\n",
       "      <td>70.000000</td>\n",
       "      <td>70.000000</td>\n",
       "      <td>70.000000</td>\n",
       "      <td>70.000000</td>\n",
       "      <td>70.000000</td>\n",
       "      <td>70.000000</td>\n",
       "    </tr>\n",
       "    <tr>\n",
       "      <th>50%</th>\n",
       "      <td>105.000000</td>\n",
       "      <td>105.000000</td>\n",
       "      <td>105.000000</td>\n",
       "      <td>105.000000</td>\n",
       "      <td>109.000000</td>\n",
       "      <td>109.000000</td>\n",
       "      <td>110.000000</td>\n",
       "      <td>110.000000</td>\n",
       "      <td>110.000000</td>\n",
       "      <td>110.000000</td>\n",
       "      <td>110.000000</td>\n",
       "      <td>110.000000</td>\n",
       "    </tr>\n",
       "    <tr>\n",
       "      <th>75%</th>\n",
       "      <td>179.000000</td>\n",
       "      <td>179.000000</td>\n",
       "      <td>179.000000</td>\n",
       "      <td>180.000000</td>\n",
       "      <td>180.000000</td>\n",
       "      <td>180.000000</td>\n",
       "      <td>185.000000</td>\n",
       "      <td>185.000000</td>\n",
       "      <td>185.000000</td>\n",
       "      <td>189.000000</td>\n",
       "      <td>190.000000</td>\n",
       "      <td>189.000000</td>\n",
       "    </tr>\n",
       "    <tr>\n",
       "      <th>max</th>\n",
       "      <td>25000.000000</td>\n",
       "      <td>25000.000000</td>\n",
       "      <td>25000.000000</td>\n",
       "      <td>25000.000000</td>\n",
       "      <td>25000.000000</td>\n",
       "      <td>25000.000000</td>\n",
       "      <td>25000.000000</td>\n",
       "      <td>25000.000000</td>\n",
       "      <td>25000.000000</td>\n",
       "      <td>25000.000000</td>\n",
       "      <td>25000.000000</td>\n",
       "      <td>25000.000000</td>\n",
       "    </tr>\n",
       "  </tbody>\n",
       "</table>\n",
       "</div>"
      ],
      "text/plain": [
       "                jan           feb           mar           apr           may  \\\n",
       "count  43342.000000  43342.000000  43143.000000  43342.000000  43342.000000   \n",
       "mean     196.036616    188.151400    191.827087    199.105164    199.811292   \n",
       "std      522.801930    430.640424    450.926035    505.128006    500.483294   \n",
       "min        0.000000      0.000000      0.000000      0.000000      0.000000   \n",
       "25%       69.000000     69.000000     69.000000     70.000000     70.000000   \n",
       "50%      105.000000    105.000000    105.000000    105.000000    109.000000   \n",
       "75%      179.000000    179.000000    179.000000    180.000000    180.000000   \n",
       "max    25000.000000  25000.000000  25000.000000  25000.000000  25000.000000   \n",
       "\n",
       "                jun           jul           aug           sep           oct  \\\n",
       "count  43342.000000  43342.000000  43342.000000  43342.000000  43342.000000   \n",
       "mean     199.872479    212.029256    211.480273    213.302709    216.964307   \n",
       "std      500.494987    581.518270    581.814268    592.164424    598.882398   \n",
       "min        0.000000      0.000000      0.000000      0.000000      0.000000   \n",
       "25%       70.000000     70.000000     70.000000     70.000000     70.000000   \n",
       "50%      109.000000    110.000000    110.000000    110.000000    110.000000   \n",
       "75%      180.000000    185.000000    185.000000    185.000000    189.000000   \n",
       "max    25000.000000  25000.000000  25000.000000  25000.000000  25000.000000   \n",
       "\n",
       "                nov           dec  \n",
       "count  40899.000000  40125.000000  \n",
       "mean     226.368615    225.840673  \n",
       "std      652.409791    656.723597  \n",
       "min        0.000000      0.000000  \n",
       "25%       70.000000     70.000000  \n",
       "50%      110.000000    110.000000  \n",
       "75%      190.000000    189.000000  \n",
       "max    25000.000000  25000.000000  "
      ]
     },
     "execution_count": 92,
     "metadata": {},
     "output_type": "execute_result"
    }
   ],
   "source": [
    "price.describe()"
   ]
  }
 ],
 "metadata": {
  "colab": {
   "collapsed_sections": [],
   "name": "DS-AirBnB-Team3.ipynb",
   "provenance": []
  },
  "kernelspec": {
   "display_name": "Python 3",
   "language": "python",
   "name": "python3"
  },
  "language_info": {
   "codemirror_mode": {
    "name": "ipython",
    "version": 3
   },
   "file_extension": ".py",
   "mimetype": "text/x-python",
   "name": "python",
   "nbconvert_exporter": "python",
   "pygments_lexer": "ipython3",
   "version": "3.7.3"
  }
 },
 "nbformat": 4,
 "nbformat_minor": 1
}
