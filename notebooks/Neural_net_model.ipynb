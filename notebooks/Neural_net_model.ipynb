{
 "cells": [
  {
   "cell_type": "code",
   "execution_count": 15,
   "metadata": {},
   "outputs": [],
   "source": [
    "import os\n",
    "import pandas as pd\n",
    "import numpy as np\n",
    "from sklearn.preprocessing import StandardScaler\n",
    "from sklearn.model_selection import train_test_split\n",
    "from sklearn.model_selection import GridSearchCV\n",
    "from tensorflow.keras.models import Sequential\n",
    "from tensorflow.keras.layers import Dense\n",
    "from tensorflow.keras.wrappers.scikit_learn import KerasClassifier"
   ]
  },
  {
   "cell_type": "code",
   "execution_count": 17,
   "metadata": {},
   "outputs": [],
   "source": [
    "df = pd.read_csv('https://raw.githubusercontent.com/bw-airbnb-team-3/data-engineering/master/grpdf.csv', index_col=0)"
   ]
  },
  {
   "cell_type": "code",
   "execution_count": 18,
   "metadata": {},
   "outputs": [
    {
     "data": {
      "text/html": [
       "<div>\n",
       "<style scoped>\n",
       "    .dataframe tbody tr th:only-of-type {\n",
       "        vertical-align: middle;\n",
       "    }\n",
       "\n",
       "    .dataframe tbody tr th {\n",
       "        vertical-align: top;\n",
       "    }\n",
       "\n",
       "    .dataframe thead th {\n",
       "        text-align: right;\n",
       "    }\n",
       "</style>\n",
       "<table border=\"1\" class=\"dataframe\">\n",
       "  <thead>\n",
       "    <tr style=\"text-align: right;\">\n",
       "      <th></th>\n",
       "      <th>price</th>\n",
       "      <th>beds</th>\n",
       "      <th>bedrooms</th>\n",
       "      <th>bathrooms</th>\n",
       "      <th>zipcode</th>\n",
       "      <th>neighbourhood</th>\n",
       "      <th>property_type</th>\n",
       "      <th>room_type</th>\n",
       "      <th>accommodates</th>\n",
       "      <th>guests_included</th>\n",
       "      <th>minimum_nights</th>\n",
       "      <th>instant_bookable</th>\n",
       "    </tr>\n",
       "  </thead>\n",
       "  <tbody>\n",
       "    <tr>\n",
       "      <td>0</td>\n",
       "      <td>122.0</td>\n",
       "      <td>3</td>\n",
       "      <td>2.0</td>\n",
       "      <td>2.0</td>\n",
       "      <td>90230</td>\n",
       "      <td>Culver City</td>\n",
       "      <td>Condominium</td>\n",
       "      <td>Entire home/apt</td>\n",
       "      <td>6</td>\n",
       "      <td>3</td>\n",
       "      <td>30</td>\n",
       "      <td>0</td>\n",
       "    </tr>\n",
       "    <tr>\n",
       "      <td>1</td>\n",
       "      <td>168.0</td>\n",
       "      <td>3</td>\n",
       "      <td>3.0</td>\n",
       "      <td>1.0</td>\n",
       "      <td>91505</td>\n",
       "      <td>Burbank</td>\n",
       "      <td>House</td>\n",
       "      <td>Entire home/apt</td>\n",
       "      <td>6</td>\n",
       "      <td>6</td>\n",
       "      <td>2</td>\n",
       "      <td>1</td>\n",
       "    </tr>\n",
       "    <tr>\n",
       "      <td>2</td>\n",
       "      <td>79.0</td>\n",
       "      <td>1</td>\n",
       "      <td>1.0</td>\n",
       "      <td>1.5</td>\n",
       "      <td>90046</td>\n",
       "      <td>Hollywood</td>\n",
       "      <td>Apartment</td>\n",
       "      <td>Private room</td>\n",
       "      <td>1</td>\n",
       "      <td>1</td>\n",
       "      <td>30</td>\n",
       "      <td>1</td>\n",
       "    </tr>\n",
       "    <tr>\n",
       "      <td>3</td>\n",
       "      <td>140.0</td>\n",
       "      <td>1</td>\n",
       "      <td>1.0</td>\n",
       "      <td>1.0</td>\n",
       "      <td>90405</td>\n",
       "      <td>Santa Monica</td>\n",
       "      <td>Apartment</td>\n",
       "      <td>Private room</td>\n",
       "      <td>1</td>\n",
       "      <td>1</td>\n",
       "      <td>1</td>\n",
       "      <td>0</td>\n",
       "    </tr>\n",
       "    <tr>\n",
       "      <td>4</td>\n",
       "      <td>80.0</td>\n",
       "      <td>1</td>\n",
       "      <td>1.0</td>\n",
       "      <td>1.0</td>\n",
       "      <td>90706</td>\n",
       "      <td>Bellflower</td>\n",
       "      <td>Apartment</td>\n",
       "      <td>Entire home/apt</td>\n",
       "      <td>2</td>\n",
       "      <td>1</td>\n",
       "      <td>2</td>\n",
       "      <td>0</td>\n",
       "    </tr>\n",
       "  </tbody>\n",
       "</table>\n",
       "</div>"
      ],
      "text/plain": [
       "   price  beds  bedrooms  bathrooms  zipcode neighbourhood property_type  \\\n",
       "0  122.0     3       2.0        2.0    90230   Culver City   Condominium   \n",
       "1  168.0     3       3.0        1.0    91505       Burbank         House   \n",
       "2   79.0     1       1.0        1.5    90046     Hollywood     Apartment   \n",
       "3  140.0     1       1.0        1.0    90405  Santa Monica     Apartment   \n",
       "4   80.0     1       1.0        1.0    90706    Bellflower     Apartment   \n",
       "\n",
       "         room_type  accommodates  guests_included  minimum_nights  \\\n",
       "0  Entire home/apt             6                3              30   \n",
       "1  Entire home/apt             6                6               2   \n",
       "2     Private room             1                1              30   \n",
       "3     Private room             1                1               1   \n",
       "4  Entire home/apt             2                1               2   \n",
       "\n",
       "   instant_bookable  \n",
       "0                 0  \n",
       "1                 1  \n",
       "2                 1  \n",
       "3                 0  \n",
       "4                 0  "
      ]
     },
     "execution_count": 18,
     "metadata": {},
     "output_type": "execute_result"
    }
   ],
   "source": [
    "df.head()"
   ]
  },
  {
   "cell_type": "code",
   "execution_count": 19,
   "metadata": {},
   "outputs": [
    {
     "data": {
      "text/plain": [
       "Index(['price', 'beds', 'bedrooms', 'bathrooms', 'zipcode', 'neighbourhood',\n",
       "       'property_type', 'room_type', 'accommodates', 'guests_included',\n",
       "       'minimum_nights', 'instant_bookable'],\n",
       "      dtype='object')"
      ]
     },
     "execution_count": 19,
     "metadata": {},
     "output_type": "execute_result"
    }
   ],
   "source": [
    "df.columns"
   ]
  },
  {
   "cell_type": "code",
   "execution_count": 20,
   "metadata": {},
   "outputs": [
    {
     "data": {
      "text/plain": [
       "(40125, 12)"
      ]
     },
     "execution_count": 20,
     "metadata": {},
     "output_type": "execute_result"
    }
   ],
   "source": [
    "df.shape"
   ]
  },
  {
   "cell_type": "code",
   "execution_count": 32,
   "metadata": {},
   "outputs": [
    {
     "data": {
      "text/plain": [
       "price               0\n",
       "beds                0\n",
       "bedrooms            0\n",
       "bathrooms           0\n",
       "zipcode             0\n",
       "neighbourhood       0\n",
       "property_type       0\n",
       "room_type           0\n",
       "accommodates        0\n",
       "guests_included     0\n",
       "minimum_nights      0\n",
       "instant_bookable    0\n",
       "dtype: int64"
      ]
     },
     "execution_count": 32,
     "metadata": {},
     "output_type": "execute_result"
    }
   ],
   "source": [
    "df.isnull().sum()"
   ]
  },
  {
   "cell_type": "code",
   "execution_count": 25,
   "metadata": {},
   "outputs": [
    {
     "data": {
      "text/plain": [
       "1.0     23235\n",
       "2.0      6902\n",
       "0.0      4308\n",
       "3.0      3277\n",
       "4.0      1434\n",
       "5.0       627\n",
       "6.0       193\n",
       "7.0        86\n",
       "8.0        30\n",
       "9.0        14\n",
       "10.0        9\n",
       "11.0        6\n",
       "12.0        3\n",
       "21.0        1\n",
       "Name: bedrooms, dtype: int64"
      ]
     },
     "execution_count": 25,
     "metadata": {},
     "output_type": "execute_result"
    }
   ],
   "source": [
    "df['bedrooms'].value_counts()"
   ]
  },
  {
   "cell_type": "code",
   "execution_count": 24,
   "metadata": {},
   "outputs": [],
   "source": [
    "df['bedrooms'] = df['bedrooms'].replace(np.NaN, 0)"
   ]
  },
  {
   "cell_type": "code",
   "execution_count": 27,
   "metadata": {},
   "outputs": [
    {
     "data": {
      "text/plain": [
       "1.0     26690\n",
       "2.0      6102\n",
       "1.5      2601\n",
       "3.0      1282\n",
       "2.5      1224\n",
       "3.5       540\n",
       "4.0       410\n",
       "4.5       299\n",
       "5.0       191\n",
       "5.5       151\n",
       "0.0       111\n",
       "0.5       106\n",
       "6.0       103\n",
       "6.5        65\n",
       "8.0        58\n",
       "7.0        46\n",
       "7.5        28\n",
       "11.0       27\n",
       "8.5        18\n",
       "10.0       13\n",
       "9.0        12\n",
       "9.5         6\n",
       "11.5        4\n",
       "10.5        3\n",
       "13.0        3\n",
       "12.5        2\n",
       "12.0        2\n",
       "13.5        1\n",
       "16.0        1\n",
       "15.0        1\n",
       "Name: bathrooms, dtype: int64"
      ]
     },
     "execution_count": 27,
     "metadata": {},
     "output_type": "execute_result"
    }
   ],
   "source": [
    "df['bathrooms'].value_counts()"
   ]
  },
  {
   "cell_type": "code",
   "execution_count": 28,
   "metadata": {},
   "outputs": [],
   "source": [
    "df['bathrooms'] = df['bathrooms'].replace(np.NaN, 0)"
   ]
  },
  {
   "cell_type": "code",
   "execution_count": 31,
   "metadata": {},
   "outputs": [],
   "source": [
    "df['neighbourhood'] = df['neighbourhood'].replace(np.nan, 'No information given')"
   ]
  },
  {
   "cell_type": "code",
   "execution_count": null,
   "metadata": {},
   "outputs": [],
   "source": [
    "# descript_feats = ['summary', 'space', 'description']\n",
    "\n",
    "# bool_feats = ['host_is_superhost', 'host_has_profile_pic', 'host_identity_verified', 'is_location_exact',\n",
    "#               'require_guest_profile_picture', 'require_guest_phone_verification']\n",
    "\n",
    "# date_feats = ['host_since']\n"
   ]
  },
  {
   "cell_type": "code",
   "execution_count": 13,
   "metadata": {},
   "outputs": [
    {
     "name": "stdout",
     "output_type": "stream",
     "text": [
      "Collecting category_encoders\n",
      "\u001b[?25l  Downloading https://files.pythonhosted.org/packages/a0/52/c54191ad3782de633ea3d6ee3bb2837bda0cf3bc97644bb6375cf14150a0/category_encoders-2.1.0-py2.py3-none-any.whl (100kB)\n",
      "\u001b[K     |████████████████████████████████| 102kB 2.6MB/s ta 0:00:01\n",
      "\u001b[?25hRequirement already satisfied: scipy>=0.19.0 in /home/ubuntu/anaconda3/lib/python3.7/site-packages (from category_encoders) (1.3.1)\n",
      "Requirement already satisfied: statsmodels>=0.6.1 in /home/ubuntu/anaconda3/lib/python3.7/site-packages (from category_encoders) (0.10.1)\n",
      "Requirement already satisfied: numpy>=1.11.3 in /home/ubuntu/anaconda3/lib/python3.7/site-packages (from category_encoders) (1.17.2)\n",
      "Requirement already satisfied: scikit-learn>=0.20.0 in /home/ubuntu/anaconda3/lib/python3.7/site-packages (from category_encoders) (0.21.3)\n",
      "Requirement already satisfied: patsy>=0.4.1 in /home/ubuntu/anaconda3/lib/python3.7/site-packages (from category_encoders) (0.5.1)\n",
      "Requirement already satisfied: pandas>=0.21.1 in /home/ubuntu/anaconda3/lib/python3.7/site-packages (from category_encoders) (0.25.1)\n",
      "Requirement already satisfied: joblib>=0.11 in /home/ubuntu/anaconda3/lib/python3.7/site-packages (from scikit-learn>=0.20.0->category_encoders) (0.13.2)\n",
      "Requirement already satisfied: six in /home/ubuntu/anaconda3/lib/python3.7/site-packages (from patsy>=0.4.1->category_encoders) (1.12.0)\n",
      "Requirement already satisfied: pytz>=2017.2 in /home/ubuntu/anaconda3/lib/python3.7/site-packages (from pandas>=0.21.1->category_encoders) (2019.3)\n",
      "Requirement already satisfied: python-dateutil>=2.6.1 in /home/ubuntu/anaconda3/lib/python3.7/site-packages (from pandas>=0.21.1->category_encoders) (2.8.0)\n",
      "Installing collected packages: category-encoders\n",
      "Successfully installed category-encoders-2.1.0\n"
     ]
    }
   ],
   "source": [
    "# !pip install category_encoders"
   ]
  },
  {
   "cell_type": "code",
   "execution_count": 33,
   "metadata": {},
   "outputs": [],
   "source": [
    "import category_encoders as ce\n",
    "from sklearn.model_selection import train_test_split\n",
    "\n",
    "train, test = train_test_split(df, train_size=0.75, test_size=0.25, random_state=42)\n",
    "\n",
    "target = \"price\"\n",
    "\n",
    "Xtrain = train.drop(columns=target)\n",
    "ytrain = train[target]\n",
    "Xtest = test.drop(columns=target)\n",
    "ytest = test[target]\n",
    "\n",
    "encoder = ce.OrdinalEncoder()\n",
    "\n",
    "Xtrainencoded = encoder.fit_transform(Xtrain)\n",
    "Xtestencoded = encoder.transform(Xtest)\n",
    "\n",
    "scaler = StandardScaler()\n",
    "\n",
    "Xtrainscaled = scaler.fit_transform(Xtrainencoded)\n",
    "Xtestscaled = scaler.transform(Xtestencoded)\n"
   ]
  },
  {
   "cell_type": "code",
   "execution_count": 34,
   "metadata": {},
   "outputs": [
    {
     "name": "stdout",
     "output_type": "stream",
     "text": [
      "(30093, 11)\n"
     ]
    },
    {
     "data": {
      "text/plain": [
       "array([[ 1.21946705,  0.48970109,  0.51819421,  0.52269842, -1.05585051,\n",
       "        -0.827191  , -0.7003191 ,  0.48760161, -0.52849331, -0.37049225,\n",
       "        -0.91970462],\n",
       "       [ 2.43445255,  4.03214701,  2.01220803,  0.52288533, -1.02462978,\n",
       "        -0.57874392, -0.7003191 ,  4.58226019,  4.98070342,  0.47467945,\n",
       "         1.08730562],\n",
       "       [ 0.6119743 ,  1.37531257,  1.01619881,  0.52339265, -0.99340905,\n",
       "        -0.33029683, -0.7003191 ,  1.60432668,  2.22610505,  0.89726529,\n",
       "         1.08730562],\n",
       "       [-0.60301119, -1.28152186, -0.47781501,  0.5263298 , -0.96218833,\n",
       "        -0.33029683, -0.7003191 , -0.62912346, -0.52849331,  0.94421928,\n",
       "        -0.91970462],\n",
       "       [-0.60301119, -0.39591039, -0.47781501, -1.88750225, -0.9309676 ,\n",
       "        -0.33029683, -0.7003191 , -0.62912346, -0.52849331, -0.46440022,\n",
       "        -0.91970462]])"
      ]
     },
     "execution_count": 34,
     "metadata": {},
     "output_type": "execute_result"
    }
   ],
   "source": [
    "print(Xtrainscaled.shape)\n",
    "Xtrainscaled[:5]"
   ]
  },
  {
   "cell_type": "code",
   "execution_count": 35,
   "metadata": {},
   "outputs": [
    {
     "name": "stdout",
     "output_type": "stream",
     "text": [
      "(30093,)\n"
     ]
    },
    {
     "data": {
      "text/plain": [
       "19661    1450.0\n",
       "355       799.0\n",
       "29974     400.0\n",
       "36018      85.0\n",
       "9418      115.0\n",
       "Name: price, dtype: float64"
      ]
     },
     "execution_count": 35,
     "metadata": {},
     "output_type": "execute_result"
    }
   ],
   "source": [
    "print(ytrain.shape)\n",
    "ytrain[:5]"
   ]
  },
  {
   "cell_type": "code",
   "execution_count": 36,
   "metadata": {},
   "outputs": [
    {
     "name": "stdout",
     "output_type": "stream",
     "text": [
      "(30093,)\n"
     ]
    },
    {
     "data": {
      "text/plain": [
       "array([1450.,  799.,  400.,   85.,  115.])"
      ]
     },
     "execution_count": 36,
     "metadata": {},
     "output_type": "execute_result"
    }
   ],
   "source": [
    "ytrain = ytrain.to_numpy()\n",
    "ytest = ytest.to_numpy()\n",
    "\n",
    "print(ytrain.shape)\n",
    "ytrain[:5]"
   ]
  },
  {
   "cell_type": "code",
   "execution_count": 37,
   "metadata": {},
   "outputs": [],
   "source": [
    "from sklearn.model_selection import GridSearchCV, cross_val_score, KFold\n",
    "from sklearn.metrics import accuracy_score\n",
    "from tensorflow.keras.models import Sequential\n",
    "from tensorflow.keras.layers import Dense\n",
    "from tensorflow.keras.wrappers.scikit_learn import KerasRegressor"
   ]
  },
  {
   "cell_type": "code",
   "execution_count": 60,
   "metadata": {},
   "outputs": [],
   "source": [
    "def create_model():\n",
    "    # create model\n",
    "    model = Sequential()\n",
    "    model.add(Dense(128, input_dim=11, activation='relu'))\n",
    "    model.add(Dense(64, activation='relu'))  \n",
    "    model.add(Dense(1, activation='linear'))\n",
    "    # Compile model\n",
    "    model.compile(loss='mean_absolute_error', optimizer='adam', metrics=['mean_absolute_error'])\n",
    "    return model\n",
    "\n",
    "model = KerasRegressor(build_fn=create_model, verbose=0)\n",
    "\n",
    "param_grid = {'batch_size': [15],\n",
    "              'epochs': [200, 300, 400]}\n",
    "\n",
    "# Create Grid Search\n",
    "grid = GridSearchCV(estimator=model, param_grid=param_grid, n_jobs=1)\n",
    "grid_result = grid.fit(Xtrainscaled,ytrain)\n",
    "\n",
    "# Report Results\n",
    "print(f\"Best: {grid_result.best_score_} using {grid_result.best_params_}\")\n",
    "means = grid_result.cv_results_['mean_test_score']\n",
    "stds = grid_result.cv_results_['std_test_score']\n",
    "params = grid_result.cv_results_['params']\n",
    "for mean, stdev, param in zip(means, stds, params):\n",
    "    print(f\"Means: {mean}, Stdev: {stdev} with: {param}\") "
   ]
  },
  {
   "cell_type": "code",
   "execution_count": 61,
   "metadata": {},
   "outputs": [
    {
     "data": {
      "text/plain": [
       "<tensorflow.python.keras.callbacks.History at 0x7f9e0ec32410>"
      ]
     },
     "execution_count": 61,
     "metadata": {},
     "output_type": "execute_result"
    }
   ],
   "source": [
    "model.fit(Xtrainscaled, ytrain, epochs=200, batch_size=15, validation_split=0.2 )\n"
   ]
  },
  {
   "cell_type": "code",
   "execution_count": 62,
   "metadata": {},
   "outputs": [
    {
     "data": {
      "text/plain": [
       "105.46802314845593"
      ]
     },
     "execution_count": 62,
     "metadata": {},
     "output_type": "execute_result"
    }
   ],
   "source": [
    "from sklearn.metrics import mean_absolute_error\n",
    "\n",
    "predictions = model.predict(Xtestscaled)\n",
    "\n",
    "mean_absolute_error(ytest, predictions)"
   ]
  },
  {
   "cell_type": "code",
   "execution_count": null,
   "metadata": {},
   "outputs": [],
   "source": []
  }
 ],
 "metadata": {
  "kernelspec": {
   "display_name": "Python 3",
   "language": "python",
   "name": "python3"
  },
  "language_info": {
   "codemirror_mode": {
    "name": "ipython",
    "version": 3
   },
   "file_extension": ".py",
   "mimetype": "text/x-python",
   "name": "python",
   "nbconvert_exporter": "python",
   "pygments_lexer": "ipython3",
   "version": "3.7.4"
  }
 },
 "nbformat": 4,
 "nbformat_minor": 2
}
