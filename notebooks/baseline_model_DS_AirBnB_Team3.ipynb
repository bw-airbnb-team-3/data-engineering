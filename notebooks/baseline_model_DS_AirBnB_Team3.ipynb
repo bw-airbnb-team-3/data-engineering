{
  "nbformat": 4,
  "nbformat_minor": 0,
  "metadata": {
    "colab": {
      "name": "baseline_model-DS-AirBnB-Team3.ipynb",
      "provenance": [],
      "machine_shape": "hm"
    },
    "kernelspec": {
      "name": "python3",
      "display_name": "Python 3"
    }
  },
  "cells": [
    {
      "cell_type": "code",
      "metadata": {
        "id": "6V_tr4S4a-2V",
        "colab_type": "code",
        "colab": {}
      },
      "source": [
        "import numpy as np\n",
        "import datetime as dt\n",
        "import gzip\n",
        "import pandas as pd\n",
        "from sklearn.model_selection import train_test_split\n",
        "import xgboost as xgb\n",
        "from xgboost import XGBRegressor\n",
        "import matplotlib.pyplot as plt\n",
        "from sklearn.metrics import mean_squared_error\n",
        "import pickle"
      ],
      "execution_count": 0,
      "outputs": []
    },
    {
      "cell_type": "code",
      "metadata": {
        "id": "jUnBW4cEBsrZ",
        "colab_type": "code",
        "outputId": "09c08e35-dbc4-40e2-e3a6-82df5cde5e9c",
        "colab": {
          "base_uri": "https://localhost:8080/",
          "height": 357
        }
      },
      "source": [
        "!wget 'https://github.com/bw-airbnb-team-3/data-engineering/blob/master/train_encoded_cleaned.csv.gz?raw=true' -O train_encoded_cleaned.csv.gz"
      ],
      "execution_count": 0,
      "outputs": [
        {
          "output_type": "stream",
          "text": [
            "--2020-01-10 15:27:17--  https://github.com/bw-airbnb-team-3/data-engineering/blob/master/train_encoded_cleaned.csv.gz?raw=true\n",
            "Resolving github.com (github.com)... 192.30.253.113\n",
            "Connecting to github.com (github.com)|192.30.253.113|:443... connected.\n",
            "HTTP request sent, awaiting response... 302 Found\n",
            "Location: https://github.com/bw-airbnb-team-3/data-engineering/raw/master/train_encoded_cleaned.csv.gz [following]\n",
            "--2020-01-10 15:27:17--  https://github.com/bw-airbnb-team-3/data-engineering/raw/master/train_encoded_cleaned.csv.gz\n",
            "Reusing existing connection to github.com:443.\n",
            "HTTP request sent, awaiting response... 302 Found\n",
            "Location: https://raw.githubusercontent.com/bw-airbnb-team-3/data-engineering/master/train_encoded_cleaned.csv.gz [following]\n",
            "--2020-01-10 15:27:17--  https://raw.githubusercontent.com/bw-airbnb-team-3/data-engineering/master/train_encoded_cleaned.csv.gz\n",
            "Resolving raw.githubusercontent.com (raw.githubusercontent.com)... 151.101.0.133, 151.101.64.133, 151.101.128.133, ...\n",
            "Connecting to raw.githubusercontent.com (raw.githubusercontent.com)|151.101.0.133|:443... connected.\n",
            "HTTP request sent, awaiting response... 200 OK\n",
            "Length: 92611627 (88M) [application/octet-stream]\n",
            "Saving to: ‘train_encoded_cleaned.csv.gz’\n",
            "\n",
            "train_encoded_clean 100%[===================>]  88.32M  94.8MB/s    in 0.9s    \n",
            "\n",
            "2020-01-10 15:27:19 (94.8 MB/s) - ‘train_encoded_cleaned.csv.gz’ saved [92611627/92611627]\n",
            "\n"
          ],
          "name": "stdout"
        }
      ]
    },
    {
      "cell_type": "code",
      "metadata": {
        "id": "eFlt3D80B4RQ",
        "colab_type": "code",
        "outputId": "a525109c-3750-492d-a0d9-9c1397b50353",
        "colab": {
          "base_uri": "https://localhost:8080/",
          "height": 275
        }
      },
      "source": [
        "train = pd.read_csv('/content/train_encoded_cleaned.csv.gz', compression= 'gzip', index_col=0, error_bad_lines=False, warn_bad_lines=False)\n",
        "\n",
        "print(train.shape)\n",
        "train.head()"
      ],
      "execution_count": 0,
      "outputs": [
        {
          "output_type": "stream",
          "text": [
            "/usr/local/lib/python3.6/dist-packages/numpy/lib/arraysetops.py:568: FutureWarning: elementwise comparison failed; returning scalar instead, but in the future will perform elementwise comparison\n",
            "  mask |= (ar1 == a)\n"
          ],
          "name": "stderr"
        },
        {
          "output_type": "stream",
          "text": [
            "(14647096, 41)\n"
          ],
          "name": "stdout"
        },
        {
          "output_type": "execute_result",
          "data": {
            "text/html": [
              "<div>\n",
              "<style scoped>\n",
              "    .dataframe tbody tr th:only-of-type {\n",
              "        vertical-align: middle;\n",
              "    }\n",
              "\n",
              "    .dataframe tbody tr th {\n",
              "        vertical-align: top;\n",
              "    }\n",
              "\n",
              "    .dataframe thead th {\n",
              "        text-align: right;\n",
              "    }\n",
              "</style>\n",
              "<table border=\"1\" class=\"dataframe\">\n",
              "  <thead>\n",
              "    <tr style=\"text-align: right;\">\n",
              "      <th></th>\n",
              "      <th>zipcode</th>\n",
              "      <th>availability_30</th>\n",
              "      <th>is_location_exact</th>\n",
              "      <th>review_scores_accuracy</th>\n",
              "      <th>host_has_profile_pic</th>\n",
              "      <th>bed_type</th>\n",
              "      <th>host_identity_verified</th>\n",
              "      <th>review_scores_value</th>\n",
              "      <th>review_scores_communication</th>\n",
              "      <th>accommodates</th>\n",
              "      <th>host_response_rate</th>\n",
              "      <th>host_is_superhost</th>\n",
              "      <th>cancellation_policy</th>\n",
              "      <th>bathrooms</th>\n",
              "      <th>host_response_time</th>\n",
              "      <th>neighbourhood_group_cleansed</th>\n",
              "      <th>require_guest_phone_verification</th>\n",
              "      <th>review_scores_cleanliness</th>\n",
              "      <th>review_scores_rating</th>\n",
              "      <th>property_type</th>\n",
              "      <th>requires_license</th>\n",
              "      <th>guests_included</th>\n",
              "      <th>availability_90</th>\n",
              "      <th>review_scores_checkin</th>\n",
              "      <th>review_scores_location</th>\n",
              "      <th>maximum_minimum_nights</th>\n",
              "      <th>require_guest_profile_picture</th>\n",
              "      <th>beds</th>\n",
              "      <th>room_type</th>\n",
              "      <th>instant_bookable</th>\n",
              "      <th>minimum_nights</th>\n",
              "      <th>extra_people</th>\n",
              "      <th>minimum_minimum_nights</th>\n",
              "      <th>availability_60</th>\n",
              "      <th>bedrooms</th>\n",
              "      <th>price</th>\n",
              "      <th>year</th>\n",
              "      <th>month</th>\n",
              "      <th>day</th>\n",
              "      <th>latitude</th>\n",
              "      <th>longitude</th>\n",
              "    </tr>\n",
              "  </thead>\n",
              "  <tbody>\n",
              "    <tr>\n",
              "      <th>0</th>\n",
              "      <td>90230.0</td>\n",
              "      <td>0</td>\n",
              "      <td>1</td>\n",
              "      <td>10.0</td>\n",
              "      <td>1</td>\n",
              "      <td>4</td>\n",
              "      <td>1</td>\n",
              "      <td>8.0</td>\n",
              "      <td>8.0</td>\n",
              "      <td>6</td>\n",
              "      <td>2</td>\n",
              "      <td>0</td>\n",
              "      <td>6</td>\n",
              "      <td>2.0</td>\n",
              "      <td>3</td>\n",
              "      <td>1</td>\n",
              "      <td>0</td>\n",
              "      <td>10.0</td>\n",
              "      <td>80.0</td>\n",
              "      <td>15</td>\n",
              "      <td>0</td>\n",
              "      <td>3</td>\n",
              "      <td>0</td>\n",
              "      <td>6.0</td>\n",
              "      <td>10.0</td>\n",
              "      <td>30</td>\n",
              "      <td>1</td>\n",
              "      <td>3</td>\n",
              "      <td>0</td>\n",
              "      <td>0</td>\n",
              "      <td>30</td>\n",
              "      <td>37</td>\n",
              "      <td>30</td>\n",
              "      <td>0</td>\n",
              "      <td>2.0</td>\n",
              "      <td>115.0</td>\n",
              "      <td>2019</td>\n",
              "      <td>12</td>\n",
              "      <td>6</td>\n",
              "      <td>33.98209</td>\n",
              "      <td>-118.38494</td>\n",
              "    </tr>\n",
              "    <tr>\n",
              "      <th>1</th>\n",
              "      <td>90230.0</td>\n",
              "      <td>0</td>\n",
              "      <td>1</td>\n",
              "      <td>10.0</td>\n",
              "      <td>1</td>\n",
              "      <td>4</td>\n",
              "      <td>1</td>\n",
              "      <td>8.0</td>\n",
              "      <td>8.0</td>\n",
              "      <td>6</td>\n",
              "      <td>2</td>\n",
              "      <td>0</td>\n",
              "      <td>6</td>\n",
              "      <td>2.0</td>\n",
              "      <td>3</td>\n",
              "      <td>1</td>\n",
              "      <td>0</td>\n",
              "      <td>10.0</td>\n",
              "      <td>80.0</td>\n",
              "      <td>15</td>\n",
              "      <td>0</td>\n",
              "      <td>3</td>\n",
              "      <td>0</td>\n",
              "      <td>6.0</td>\n",
              "      <td>10.0</td>\n",
              "      <td>30</td>\n",
              "      <td>1</td>\n",
              "      <td>3</td>\n",
              "      <td>0</td>\n",
              "      <td>0</td>\n",
              "      <td>30</td>\n",
              "      <td>37</td>\n",
              "      <td>30</td>\n",
              "      <td>0</td>\n",
              "      <td>2.0</td>\n",
              "      <td>115.0</td>\n",
              "      <td>2019</td>\n",
              "      <td>12</td>\n",
              "      <td>7</td>\n",
              "      <td>33.98209</td>\n",
              "      <td>-118.38494</td>\n",
              "    </tr>\n",
              "    <tr>\n",
              "      <th>2</th>\n",
              "      <td>90230.0</td>\n",
              "      <td>0</td>\n",
              "      <td>1</td>\n",
              "      <td>10.0</td>\n",
              "      <td>1</td>\n",
              "      <td>4</td>\n",
              "      <td>1</td>\n",
              "      <td>8.0</td>\n",
              "      <td>8.0</td>\n",
              "      <td>6</td>\n",
              "      <td>2</td>\n",
              "      <td>0</td>\n",
              "      <td>6</td>\n",
              "      <td>2.0</td>\n",
              "      <td>3</td>\n",
              "      <td>1</td>\n",
              "      <td>0</td>\n",
              "      <td>10.0</td>\n",
              "      <td>80.0</td>\n",
              "      <td>15</td>\n",
              "      <td>0</td>\n",
              "      <td>3</td>\n",
              "      <td>0</td>\n",
              "      <td>6.0</td>\n",
              "      <td>10.0</td>\n",
              "      <td>30</td>\n",
              "      <td>1</td>\n",
              "      <td>3</td>\n",
              "      <td>0</td>\n",
              "      <td>0</td>\n",
              "      <td>30</td>\n",
              "      <td>37</td>\n",
              "      <td>30</td>\n",
              "      <td>0</td>\n",
              "      <td>2.0</td>\n",
              "      <td>115.0</td>\n",
              "      <td>2019</td>\n",
              "      <td>12</td>\n",
              "      <td>8</td>\n",
              "      <td>33.98209</td>\n",
              "      <td>-118.38494</td>\n",
              "    </tr>\n",
              "    <tr>\n",
              "      <th>3</th>\n",
              "      <td>90230.0</td>\n",
              "      <td>0</td>\n",
              "      <td>1</td>\n",
              "      <td>10.0</td>\n",
              "      <td>1</td>\n",
              "      <td>4</td>\n",
              "      <td>1</td>\n",
              "      <td>8.0</td>\n",
              "      <td>8.0</td>\n",
              "      <td>6</td>\n",
              "      <td>2</td>\n",
              "      <td>0</td>\n",
              "      <td>6</td>\n",
              "      <td>2.0</td>\n",
              "      <td>3</td>\n",
              "      <td>1</td>\n",
              "      <td>0</td>\n",
              "      <td>10.0</td>\n",
              "      <td>80.0</td>\n",
              "      <td>15</td>\n",
              "      <td>0</td>\n",
              "      <td>3</td>\n",
              "      <td>0</td>\n",
              "      <td>6.0</td>\n",
              "      <td>10.0</td>\n",
              "      <td>30</td>\n",
              "      <td>1</td>\n",
              "      <td>3</td>\n",
              "      <td>0</td>\n",
              "      <td>0</td>\n",
              "      <td>30</td>\n",
              "      <td>37</td>\n",
              "      <td>30</td>\n",
              "      <td>0</td>\n",
              "      <td>2.0</td>\n",
              "      <td>115.0</td>\n",
              "      <td>2019</td>\n",
              "      <td>12</td>\n",
              "      <td>9</td>\n",
              "      <td>33.98209</td>\n",
              "      <td>-118.38494</td>\n",
              "    </tr>\n",
              "    <tr>\n",
              "      <th>4</th>\n",
              "      <td>90230.0</td>\n",
              "      <td>0</td>\n",
              "      <td>1</td>\n",
              "      <td>10.0</td>\n",
              "      <td>1</td>\n",
              "      <td>4</td>\n",
              "      <td>1</td>\n",
              "      <td>8.0</td>\n",
              "      <td>8.0</td>\n",
              "      <td>6</td>\n",
              "      <td>2</td>\n",
              "      <td>0</td>\n",
              "      <td>6</td>\n",
              "      <td>2.0</td>\n",
              "      <td>3</td>\n",
              "      <td>1</td>\n",
              "      <td>0</td>\n",
              "      <td>10.0</td>\n",
              "      <td>80.0</td>\n",
              "      <td>15</td>\n",
              "      <td>0</td>\n",
              "      <td>3</td>\n",
              "      <td>0</td>\n",
              "      <td>6.0</td>\n",
              "      <td>10.0</td>\n",
              "      <td>30</td>\n",
              "      <td>1</td>\n",
              "      <td>3</td>\n",
              "      <td>0</td>\n",
              "      <td>0</td>\n",
              "      <td>30</td>\n",
              "      <td>37</td>\n",
              "      <td>30</td>\n",
              "      <td>0</td>\n",
              "      <td>2.0</td>\n",
              "      <td>115.0</td>\n",
              "      <td>2019</td>\n",
              "      <td>12</td>\n",
              "      <td>10</td>\n",
              "      <td>33.98209</td>\n",
              "      <td>-118.38494</td>\n",
              "    </tr>\n",
              "  </tbody>\n",
              "</table>\n",
              "</div>"
            ],
            "text/plain": [
              "   zipcode  availability_30  is_location_exact  ...  day  latitude  longitude\n",
              "0  90230.0                0                  1  ...    6  33.98209 -118.38494\n",
              "1  90230.0                0                  1  ...    7  33.98209 -118.38494\n",
              "2  90230.0                0                  1  ...    8  33.98209 -118.38494\n",
              "3  90230.0                0                  1  ...    9  33.98209 -118.38494\n",
              "4  90230.0                0                  1  ...   10  33.98209 -118.38494\n",
              "\n",
              "[5 rows x 41 columns]"
            ]
          },
          "metadata": {
            "tags": []
          },
          "execution_count": 3
        }
      ]
    },
    {
      "cell_type": "code",
      "metadata": {
        "id": "BkJG_3gDINVV",
        "colab_type": "code",
        "outputId": "c5fb6a62-8502-4b69-aba2-5e26baf004a9",
        "colab": {
          "base_uri": "https://localhost:8080/",
          "height": 34
        }
      },
      "source": [
        "X_train = train.drop(columns= 'price')\n",
        "y_train = train['price']\n",
        "\n",
        "X_train.shape, y_train.shape"
      ],
      "execution_count": 0,
      "outputs": [
        {
          "output_type": "execute_result",
          "data": {
            "text/plain": [
              "((14647096, 40), (14647096,))"
            ]
          },
          "metadata": {
            "tags": []
          },
          "execution_count": 9
        }
      ]
    },
    {
      "cell_type": "code",
      "metadata": {
        "id": "vJnBsdZPKlG-",
        "colab_type": "code",
        "outputId": "f03d59f5-f875-4c6b-9fe5-581e8044e0fa",
        "colab": {
          "base_uri": "https://localhost:8080/",
          "height": 527
        }
      },
      "source": [
        "X_train, X_val, y_train, y_val = train_test_split(X_train, y_train, train_size = 0.80, \n",
        "                                                  test_size = 0.20, random_state=42)\n",
        "X_train, X_test, y_train, y_test = train_test_split(X_train, y_train, train_size = 0.80, \n",
        "                                                  test_size = 0.20, random_state=42)"
      ],
      "execution_count": 0,
      "outputs": [
        {
          "output_type": "execute_result",
          "data": {
            "text/plain": [
              "((9374140, 40),\n",
              " (9374140,),\n",
              " (2929420, 40),\n",
              " (2929420,),\n",
              "           zipcode  availability_30  is_location_exact  ...  day  latitude  longitude\n",
              " 8640873   90046.0                7                  1  ...    8  34.09364 -118.35064\n",
              " 6536194   90034.0                0                  0  ...   26  34.01730 -118.41359\n",
              " 13622513  90802.0               29                  1  ...   23  33.76729 -118.18743\n",
              " 8571888   90505.0                0                  1  ...   19  33.80074 -118.34348\n",
              " 1630511   90066.0                0                  1  ...   27  33.99564 -118.43946\n",
              " ...           ...              ...                ...  ...  ...       ...        ...\n",
              " 12783     90068.0                4                  0  ...   10  34.11939 -118.32044\n",
              " 6712775   90068.0                0                  0  ...    4  34.10911 -118.32623\n",
              " 4486920   90247.0                0                  1  ...   29  34.66875 -118.15798\n",
              " 3939521   90247.0               18                  1  ...    6  34.04282 -118.25834\n",
              " 7416703   91780.0                4                  1  ...    2  34.11130 -118.07183\n",
              " \n",
              " [2343536 rows x 40 columns],\n",
              " 8640873     198.0\n",
              " 6536194      55.0\n",
              " 13622513    159.0\n",
              " 8571888      75.0\n",
              " 1630511     101.0\n",
              "             ...  \n",
              " 12783       195.0\n",
              " 6712775      55.0\n",
              " 4486920      50.0\n",
              " 3939521     289.0\n",
              " 7416703     161.0\n",
              " Name: price, Length: 2343536, dtype: float64)"
            ]
          },
          "metadata": {
            "tags": []
          },
          "execution_count": 11
        }
      ]
    },
    {
      "cell_type": "code",
      "metadata": {
        "id": "Nv4F0khKK1YY",
        "colab_type": "code",
        "outputId": "c1d97f55-4609-4f18-cd6e-4f20a998b2e5",
        "colab": {
          "base_uri": "https://localhost:8080/",
          "height": 119
        }
      },
      "source": [
        "X_train.shape, y_train.shape, X_val.shape, y_val.shape, X_test.shape, y_test.shape"
      ],
      "execution_count": 0,
      "outputs": [
        {
          "output_type": "execute_result",
          "data": {
            "text/plain": [
              "((9374140, 40),\n",
              " (9374140,),\n",
              " (2929420, 40),\n",
              " (2929420,),\n",
              " (2343536, 40),\n",
              " (2343536,))"
            ]
          },
          "metadata": {
            "tags": []
          },
          "execution_count": 12
        }
      ]
    },
    {
      "cell_type": "code",
      "metadata": {
        "id": "ZXg39kMWK7QI",
        "colab_type": "code",
        "outputId": "0454884d-c8d7-40ce-f82d-6d5c6914b282",
        "colab": {
          "base_uri": "https://localhost:8080/",
          "height": 1000
        }
      },
      "source": [
        "eval_set = [(X_train, y_train), \n",
        "            (X_val, y_val)]\n",
        "\n",
        "model = XGBRegressor(n_estimators=250, n_jobs=-1)\n",
        "model.fit(X_train, y_train, eval_set=eval_set, eval_metric='rmse', \n",
        "          early_stopping_rounds=50)"
      ],
      "execution_count": 0,
      "outputs": [
        {
          "output_type": "stream",
          "text": [
            "/usr/local/lib/python3.6/dist-packages/xgboost/core.py:587: FutureWarning: Series.base is deprecated and will be removed in a future version\n",
            "  if getattr(data, 'base', None) is not None and \\\n"
          ],
          "name": "stderr"
        },
        {
          "output_type": "stream",
          "text": [
            "[15:57:42] WARNING: /workspace/src/objective/regression_obj.cu:152: reg:linear is now deprecated in favor of reg:squarederror.\n",
            "[15:57:42] WARNING: /workspace/src/learner.cc:686: Tree method is automatically selected to be 'approx' for faster speed. To use old behavior (exact greedy algorithm on single machine), set tree_method to 'exact'.\n",
            "[0]\tvalidation_0-rmse:619.145\tvalidation_1-rmse:625.475\n",
            "Multiple eval metrics have been passed: 'validation_1-rmse' will be used for early stopping.\n",
            "\n",
            "Will train until validation_1-rmse hasn't improved in 50 rounds.\n",
            "[1]\tvalidation_0-rmse:592.743\tvalidation_1-rmse:599.078\n",
            "[2]\tvalidation_0-rmse:569.708\tvalidation_1-rmse:575.561\n",
            "[3]\tvalidation_0-rmse:550.759\tvalidation_1-rmse:556.066\n",
            "[4]\tvalidation_0-rmse:532.241\tvalidation_1-rmse:537.159\n",
            "[5]\tvalidation_0-rmse:516.491\tvalidation_1-rmse:520.963\n",
            "[6]\tvalidation_0-rmse:502.952\tvalidation_1-rmse:507.129\n",
            "[7]\tvalidation_0-rmse:490.332\tvalidation_1-rmse:494.218\n",
            "[8]\tvalidation_0-rmse:479.014\tvalidation_1-rmse:482.867\n",
            "[9]\tvalidation_0-rmse:469.037\tvalidation_1-rmse:472.829\n",
            "[10]\tvalidation_0-rmse:460.444\tvalidation_1-rmse:464.278\n",
            "[11]\tvalidation_0-rmse:452.856\tvalidation_1-rmse:456.629\n",
            "[12]\tvalidation_0-rmse:445.319\tvalidation_1-rmse:449.161\n",
            "[13]\tvalidation_0-rmse:439.103\tvalidation_1-rmse:442.739\n",
            "[14]\tvalidation_0-rmse:432.914\tvalidation_1-rmse:436.519\n",
            "[15]\tvalidation_0-rmse:428.165\tvalidation_1-rmse:431.751\n",
            "[16]\tvalidation_0-rmse:423.79\tvalidation_1-rmse:427.328\n",
            "[17]\tvalidation_0-rmse:418.261\tvalidation_1-rmse:421.935\n",
            "[18]\tvalidation_0-rmse:414.764\tvalidation_1-rmse:418.338\n",
            "[19]\tvalidation_0-rmse:410.395\tvalidation_1-rmse:414\n",
            "[20]\tvalidation_0-rmse:407.379\tvalidation_1-rmse:410.995\n",
            "[21]\tvalidation_0-rmse:403.554\tvalidation_1-rmse:407.275\n",
            "[22]\tvalidation_0-rmse:401.272\tvalidation_1-rmse:404.924\n",
            "[23]\tvalidation_0-rmse:398.56\tvalidation_1-rmse:402.002\n",
            "[24]\tvalidation_0-rmse:396.544\tvalidation_1-rmse:399.759\n",
            "[25]\tvalidation_0-rmse:393.815\tvalidation_1-rmse:397.019\n",
            "[26]\tvalidation_0-rmse:391.712\tvalidation_1-rmse:394.736\n",
            "[27]\tvalidation_0-rmse:390.392\tvalidation_1-rmse:393.344\n",
            "[28]\tvalidation_0-rmse:388.051\tvalidation_1-rmse:391.084\n",
            "[29]\tvalidation_0-rmse:386.45\tvalidation_1-rmse:389.331\n",
            "[30]\tvalidation_0-rmse:385.124\tvalidation_1-rmse:387.967\n",
            "[31]\tvalidation_0-rmse:383.355\tvalidation_1-rmse:386.16\n",
            "[32]\tvalidation_0-rmse:381.657\tvalidation_1-rmse:384.452\n",
            "[33]\tvalidation_0-rmse:380.172\tvalidation_1-rmse:382.975\n",
            "[34]\tvalidation_0-rmse:379.092\tvalidation_1-rmse:381.784\n",
            "[35]\tvalidation_0-rmse:377.695\tvalidation_1-rmse:380.344\n",
            "[36]\tvalidation_0-rmse:376.565\tvalidation_1-rmse:379.213\n",
            "[37]\tvalidation_0-rmse:375.313\tvalidation_1-rmse:377.962\n",
            "[38]\tvalidation_0-rmse:374.491\tvalidation_1-rmse:377.116\n",
            "[39]\tvalidation_0-rmse:373.545\tvalidation_1-rmse:376.125\n",
            "[40]\tvalidation_0-rmse:372.555\tvalidation_1-rmse:375.102\n",
            "[41]\tvalidation_0-rmse:371.723\tvalidation_1-rmse:374.262\n",
            "[42]\tvalidation_0-rmse:371.018\tvalidation_1-rmse:373.526\n",
            "[43]\tvalidation_0-rmse:370.474\tvalidation_1-rmse:372.936\n",
            "[44]\tvalidation_0-rmse:369.595\tvalidation_1-rmse:372.069\n",
            "[45]\tvalidation_0-rmse:368.666\tvalidation_1-rmse:371.175\n",
            "[46]\tvalidation_0-rmse:367.552\tvalidation_1-rmse:370.114\n",
            "[47]\tvalidation_0-rmse:367.035\tvalidation_1-rmse:369.531\n",
            "[48]\tvalidation_0-rmse:366.679\tvalidation_1-rmse:369.156\n",
            "[49]\tvalidation_0-rmse:365.913\tvalidation_1-rmse:368.394\n",
            "[50]\tvalidation_0-rmse:365.045\tvalidation_1-rmse:367.565\n",
            "[51]\tvalidation_0-rmse:364.708\tvalidation_1-rmse:367.225\n",
            "[52]\tvalidation_0-rmse:364.305\tvalidation_1-rmse:366.789\n",
            "[53]\tvalidation_0-rmse:363.964\tvalidation_1-rmse:366.46\n",
            "[54]\tvalidation_0-rmse:363.269\tvalidation_1-rmse:365.74\n",
            "[55]\tvalidation_0-rmse:362.684\tvalidation_1-rmse:365.163\n",
            "[56]\tvalidation_0-rmse:362.326\tvalidation_1-rmse:364.791\n",
            "[57]\tvalidation_0-rmse:361.757\tvalidation_1-rmse:364.254\n",
            "[58]\tvalidation_0-rmse:361.368\tvalidation_1-rmse:363.855\n",
            "[59]\tvalidation_0-rmse:361.01\tvalidation_1-rmse:363.49\n",
            "[60]\tvalidation_0-rmse:360.63\tvalidation_1-rmse:363.098\n",
            "[61]\tvalidation_0-rmse:360.066\tvalidation_1-rmse:362.585\n",
            "[62]\tvalidation_0-rmse:359.848\tvalidation_1-rmse:362.363\n",
            "[63]\tvalidation_0-rmse:359.428\tvalidation_1-rmse:361.949\n",
            "[64]\tvalidation_0-rmse:359.208\tvalidation_1-rmse:361.733\n",
            "[65]\tvalidation_0-rmse:358.687\tvalidation_1-rmse:361.194\n",
            "[66]\tvalidation_0-rmse:358.206\tvalidation_1-rmse:360.72\n",
            "[67]\tvalidation_0-rmse:358.016\tvalidation_1-rmse:360.519\n",
            "[68]\tvalidation_0-rmse:357.802\tvalidation_1-rmse:360.306\n",
            "[69]\tvalidation_0-rmse:357.681\tvalidation_1-rmse:360.172\n",
            "[70]\tvalidation_0-rmse:357.211\tvalidation_1-rmse:359.717\n",
            "[71]\tvalidation_0-rmse:356.663\tvalidation_1-rmse:359.087\n",
            "[72]\tvalidation_0-rmse:356.08\tvalidation_1-rmse:358.51\n",
            "[73]\tvalidation_0-rmse:355.885\tvalidation_1-rmse:358.311\n",
            "[74]\tvalidation_0-rmse:355.808\tvalidation_1-rmse:358.231\n",
            "[75]\tvalidation_0-rmse:355.349\tvalidation_1-rmse:357.744\n",
            "[76]\tvalidation_0-rmse:354.866\tvalidation_1-rmse:357.272\n",
            "[77]\tvalidation_0-rmse:354.513\tvalidation_1-rmse:356.909\n",
            "[78]\tvalidation_0-rmse:354.37\tvalidation_1-rmse:356.756\n",
            "[79]\tvalidation_0-rmse:354.312\tvalidation_1-rmse:356.691\n",
            "[80]\tvalidation_0-rmse:354.035\tvalidation_1-rmse:356.413\n",
            "[81]\tvalidation_0-rmse:353.777\tvalidation_1-rmse:356.103\n",
            "[82]\tvalidation_0-rmse:353.39\tvalidation_1-rmse:355.72\n",
            "[83]\tvalidation_0-rmse:353.233\tvalidation_1-rmse:355.546\n",
            "[84]\tvalidation_0-rmse:352.784\tvalidation_1-rmse:355.143\n",
            "[85]\tvalidation_0-rmse:352.739\tvalidation_1-rmse:355.093\n",
            "[86]\tvalidation_0-rmse:352.644\tvalidation_1-rmse:354.99\n",
            "[87]\tvalidation_0-rmse:352.331\tvalidation_1-rmse:354.657\n",
            "[88]\tvalidation_0-rmse:352.008\tvalidation_1-rmse:354.335\n",
            "[89]\tvalidation_0-rmse:351.367\tvalidation_1-rmse:353.684\n",
            "[90]\tvalidation_0-rmse:351.117\tvalidation_1-rmse:353.436\n",
            "[91]\tvalidation_0-rmse:350.997\tvalidation_1-rmse:353.298\n",
            "[92]\tvalidation_0-rmse:350.923\tvalidation_1-rmse:353.218\n",
            "[93]\tvalidation_0-rmse:350.758\tvalidation_1-rmse:353.022\n",
            "[94]\tvalidation_0-rmse:350.512\tvalidation_1-rmse:352.78\n",
            "[95]\tvalidation_0-rmse:349.412\tvalidation_1-rmse:351.809\n",
            "[96]\tvalidation_0-rmse:349.077\tvalidation_1-rmse:351.515\n",
            "[97]\tvalidation_0-rmse:348.96\tvalidation_1-rmse:351.392\n",
            "[98]\tvalidation_0-rmse:348.706\tvalidation_1-rmse:351.134\n",
            "[99]\tvalidation_0-rmse:348.452\tvalidation_1-rmse:350.869\n",
            "[100]\tvalidation_0-rmse:348.2\tvalidation_1-rmse:350.598\n",
            "[101]\tvalidation_0-rmse:348.089\tvalidation_1-rmse:350.484\n",
            "[102]\tvalidation_0-rmse:347.919\tvalidation_1-rmse:350.311\n",
            "[103]\tvalidation_0-rmse:347.812\tvalidation_1-rmse:350.198\n",
            "[104]\tvalidation_0-rmse:347.761\tvalidation_1-rmse:350.148\n",
            "[105]\tvalidation_0-rmse:347.471\tvalidation_1-rmse:349.873\n",
            "[106]\tvalidation_0-rmse:347.376\tvalidation_1-rmse:349.783\n",
            "[107]\tvalidation_0-rmse:347.28\tvalidation_1-rmse:349.686\n",
            "[108]\tvalidation_0-rmse:346.951\tvalidation_1-rmse:349.33\n",
            "[109]\tvalidation_0-rmse:346.704\tvalidation_1-rmse:349.099\n",
            "[110]\tvalidation_0-rmse:346.61\tvalidation_1-rmse:349\n",
            "[111]\tvalidation_0-rmse:346.584\tvalidation_1-rmse:348.972\n",
            "[112]\tvalidation_0-rmse:346.49\tvalidation_1-rmse:348.873\n",
            "[113]\tvalidation_0-rmse:346.203\tvalidation_1-rmse:348.587\n",
            "[114]\tvalidation_0-rmse:345.748\tvalidation_1-rmse:348.13\n",
            "[115]\tvalidation_0-rmse:345.642\tvalidation_1-rmse:348.021\n",
            "[116]\tvalidation_0-rmse:345.39\tvalidation_1-rmse:347.775\n",
            "[117]\tvalidation_0-rmse:345.321\tvalidation_1-rmse:347.704\n",
            "[118]\tvalidation_0-rmse:343.226\tvalidation_1-rmse:345.734\n",
            "[119]\tvalidation_0-rmse:343.197\tvalidation_1-rmse:345.71\n",
            "[120]\tvalidation_0-rmse:343.091\tvalidation_1-rmse:345.603\n",
            "[121]\tvalidation_0-rmse:342.827\tvalidation_1-rmse:345.323\n",
            "[122]\tvalidation_0-rmse:342.633\tvalidation_1-rmse:345.136\n",
            "[123]\tvalidation_0-rmse:341.836\tvalidation_1-rmse:344.437\n",
            "[124]\tvalidation_0-rmse:341.757\tvalidation_1-rmse:344.363\n",
            "[125]\tvalidation_0-rmse:341.572\tvalidation_1-rmse:344.187\n",
            "[126]\tvalidation_0-rmse:341.394\tvalidation_1-rmse:344.007\n",
            "[127]\tvalidation_0-rmse:340.282\tvalidation_1-rmse:342.952\n",
            "[128]\tvalidation_0-rmse:340.261\tvalidation_1-rmse:342.929\n",
            "[129]\tvalidation_0-rmse:340.076\tvalidation_1-rmse:342.755\n",
            "[130]\tvalidation_0-rmse:339.898\tvalidation_1-rmse:342.575\n",
            "[131]\tvalidation_0-rmse:339.814\tvalidation_1-rmse:342.491\n",
            "[132]\tvalidation_0-rmse:339.443\tvalidation_1-rmse:342.122\n",
            "[133]\tvalidation_0-rmse:339.12\tvalidation_1-rmse:341.791\n",
            "[134]\tvalidation_0-rmse:338.814\tvalidation_1-rmse:341.454\n",
            "[135]\tvalidation_0-rmse:338.78\tvalidation_1-rmse:341.417\n",
            "[136]\tvalidation_0-rmse:338.588\tvalidation_1-rmse:341.226\n",
            "[137]\tvalidation_0-rmse:338.386\tvalidation_1-rmse:341.032\n",
            "[138]\tvalidation_0-rmse:338.312\tvalidation_1-rmse:340.961\n",
            "[139]\tvalidation_0-rmse:338.218\tvalidation_1-rmse:340.88\n",
            "[140]\tvalidation_0-rmse:338.081\tvalidation_1-rmse:340.736\n",
            "[141]\tvalidation_0-rmse:337.845\tvalidation_1-rmse:340.51\n",
            "[142]\tvalidation_0-rmse:337.567\tvalidation_1-rmse:340.2\n",
            "[143]\tvalidation_0-rmse:337.474\tvalidation_1-rmse:340.083\n",
            "[144]\tvalidation_0-rmse:336.576\tvalidation_1-rmse:339.233\n",
            "[145]\tvalidation_0-rmse:336.566\tvalidation_1-rmse:339.218\n",
            "[146]\tvalidation_0-rmse:336.512\tvalidation_1-rmse:339.171\n",
            "[147]\tvalidation_0-rmse:336.478\tvalidation_1-rmse:339.132\n",
            "[148]\tvalidation_0-rmse:335.82\tvalidation_1-rmse:338.553\n",
            "[149]\tvalidation_0-rmse:335.595\tvalidation_1-rmse:338.322\n",
            "[150]\tvalidation_0-rmse:335.333\tvalidation_1-rmse:338.06\n",
            "[151]\tvalidation_0-rmse:335.11\tvalidation_1-rmse:337.859\n",
            "[152]\tvalidation_0-rmse:334.872\tvalidation_1-rmse:337.613\n",
            "[153]\tvalidation_0-rmse:334.502\tvalidation_1-rmse:337.227\n",
            "[154]\tvalidation_0-rmse:334.435\tvalidation_1-rmse:337.159\n",
            "[155]\tvalidation_0-rmse:334.258\tvalidation_1-rmse:336.996\n",
            "[156]\tvalidation_0-rmse:334.134\tvalidation_1-rmse:336.878\n",
            "[157]\tvalidation_0-rmse:334.089\tvalidation_1-rmse:336.826\n",
            "[158]\tvalidation_0-rmse:333.977\tvalidation_1-rmse:336.715\n",
            "[159]\tvalidation_0-rmse:333.805\tvalidation_1-rmse:336.54\n",
            "[160]\tvalidation_0-rmse:333.746\tvalidation_1-rmse:336.487\n",
            "[161]\tvalidation_0-rmse:333.715\tvalidation_1-rmse:336.454\n",
            "[162]\tvalidation_0-rmse:333.338\tvalidation_1-rmse:336.066\n",
            "[163]\tvalidation_0-rmse:333.189\tvalidation_1-rmse:335.92\n",
            "[164]\tvalidation_0-rmse:333.023\tvalidation_1-rmse:335.761\n",
            "[165]\tvalidation_0-rmse:333.006\tvalidation_1-rmse:335.748\n",
            "[166]\tvalidation_0-rmse:332.847\tvalidation_1-rmse:335.592\n",
            "[167]\tvalidation_0-rmse:332.7\tvalidation_1-rmse:335.444\n",
            "[168]\tvalidation_0-rmse:332.521\tvalidation_1-rmse:335.26\n",
            "[169]\tvalidation_0-rmse:332.507\tvalidation_1-rmse:335.25\n",
            "[170]\tvalidation_0-rmse:332.405\tvalidation_1-rmse:335.153\n",
            "[171]\tvalidation_0-rmse:332.356\tvalidation_1-rmse:335.1\n",
            "[172]\tvalidation_0-rmse:332.301\tvalidation_1-rmse:335.053\n",
            "[173]\tvalidation_0-rmse:332.166\tvalidation_1-rmse:334.895\n",
            "[174]\tvalidation_0-rmse:332.034\tvalidation_1-rmse:334.761\n",
            "[175]\tvalidation_0-rmse:331.828\tvalidation_1-rmse:334.555\n",
            "[176]\tvalidation_0-rmse:331.533\tvalidation_1-rmse:334.293\n",
            "[177]\tvalidation_0-rmse:331.432\tvalidation_1-rmse:334.182\n",
            "[178]\tvalidation_0-rmse:331.301\tvalidation_1-rmse:334.05\n",
            "[179]\tvalidation_0-rmse:331.263\tvalidation_1-rmse:334.018\n",
            "[180]\tvalidation_0-rmse:331.136\tvalidation_1-rmse:333.902\n",
            "[181]\tvalidation_0-rmse:330.023\tvalidation_1-rmse:332.845\n",
            "[182]\tvalidation_0-rmse:329.996\tvalidation_1-rmse:332.82\n",
            "[183]\tvalidation_0-rmse:329.317\tvalidation_1-rmse:332.177\n",
            "[184]\tvalidation_0-rmse:329.112\tvalidation_1-rmse:331.973\n",
            "[185]\tvalidation_0-rmse:328.781\tvalidation_1-rmse:331.665\n",
            "[186]\tvalidation_0-rmse:328.645\tvalidation_1-rmse:331.526\n",
            "[187]\tvalidation_0-rmse:328.602\tvalidation_1-rmse:331.478\n",
            "[188]\tvalidation_0-rmse:328.429\tvalidation_1-rmse:331.3\n",
            "[189]\tvalidation_0-rmse:328.242\tvalidation_1-rmse:331.119\n",
            "[190]\tvalidation_0-rmse:328.169\tvalidation_1-rmse:331.038\n",
            "[191]\tvalidation_0-rmse:328.012\tvalidation_1-rmse:330.863\n",
            "[192]\tvalidation_0-rmse:327.884\tvalidation_1-rmse:330.741\n",
            "[193]\tvalidation_0-rmse:327.806\tvalidation_1-rmse:330.666\n",
            "[194]\tvalidation_0-rmse:327.736\tvalidation_1-rmse:330.597\n",
            "[195]\tvalidation_0-rmse:327.583\tvalidation_1-rmse:330.437\n",
            "[196]\tvalidation_0-rmse:327.5\tvalidation_1-rmse:330.364\n",
            "[197]\tvalidation_0-rmse:325.945\tvalidation_1-rmse:328.929\n",
            "[198]\tvalidation_0-rmse:325.822\tvalidation_1-rmse:328.81\n",
            "[199]\tvalidation_0-rmse:325.761\tvalidation_1-rmse:328.747\n",
            "[200]\tvalidation_0-rmse:325.721\tvalidation_1-rmse:328.713\n",
            "[201]\tvalidation_0-rmse:325.608\tvalidation_1-rmse:328.6\n",
            "[202]\tvalidation_0-rmse:325.448\tvalidation_1-rmse:328.421\n",
            "[203]\tvalidation_0-rmse:325.141\tvalidation_1-rmse:328.136\n",
            "[204]\tvalidation_0-rmse:324.918\tvalidation_1-rmse:327.901\n",
            "[205]\tvalidation_0-rmse:324.763\tvalidation_1-rmse:327.738\n",
            "[206]\tvalidation_0-rmse:324.609\tvalidation_1-rmse:327.585\n",
            "[207]\tvalidation_0-rmse:324.545\tvalidation_1-rmse:327.527\n",
            "[208]\tvalidation_0-rmse:324.42\tvalidation_1-rmse:327.399\n",
            "[209]\tvalidation_0-rmse:324.391\tvalidation_1-rmse:327.369\n",
            "[210]\tvalidation_0-rmse:324.325\tvalidation_1-rmse:327.308\n",
            "[211]\tvalidation_0-rmse:324.234\tvalidation_1-rmse:327.218\n",
            "[212]\tvalidation_0-rmse:324.201\tvalidation_1-rmse:327.186\n",
            "[213]\tvalidation_0-rmse:323.706\tvalidation_1-rmse:326.768\n",
            "[214]\tvalidation_0-rmse:323.568\tvalidation_1-rmse:326.626\n",
            "[215]\tvalidation_0-rmse:323.51\tvalidation_1-rmse:326.568\n",
            "[216]\tvalidation_0-rmse:323.086\tvalidation_1-rmse:326.197\n",
            "[217]\tvalidation_0-rmse:323.068\tvalidation_1-rmse:326.177\n",
            "[218]\tvalidation_0-rmse:322.747\tvalidation_1-rmse:325.843\n",
            "[219]\tvalidation_0-rmse:322.33\tvalidation_1-rmse:325.49\n",
            "[220]\tvalidation_0-rmse:321.965\tvalidation_1-rmse:325.137\n",
            "[221]\tvalidation_0-rmse:321.62\tvalidation_1-rmse:324.852\n",
            "[222]\tvalidation_0-rmse:321.459\tvalidation_1-rmse:324.699\n",
            "[223]\tvalidation_0-rmse:321.351\tvalidation_1-rmse:324.594\n",
            "[224]\tvalidation_0-rmse:321.343\tvalidation_1-rmse:324.586\n",
            "[225]\tvalidation_0-rmse:321.294\tvalidation_1-rmse:324.537\n",
            "[226]\tvalidation_0-rmse:321.188\tvalidation_1-rmse:324.436\n",
            "[227]\tvalidation_0-rmse:321.093\tvalidation_1-rmse:324.356\n",
            "[228]\tvalidation_0-rmse:320.65\tvalidation_1-rmse:324.035\n",
            "[229]\tvalidation_0-rmse:320.426\tvalidation_1-rmse:323.797\n",
            "[230]\tvalidation_0-rmse:320.32\tvalidation_1-rmse:323.688\n",
            "[231]\tvalidation_0-rmse:320.202\tvalidation_1-rmse:323.572\n",
            "[232]\tvalidation_0-rmse:320.08\tvalidation_1-rmse:323.449\n",
            "[233]\tvalidation_0-rmse:320.074\tvalidation_1-rmse:323.441\n",
            "[234]\tvalidation_0-rmse:319.965\tvalidation_1-rmse:323.328\n",
            "[235]\tvalidation_0-rmse:319.872\tvalidation_1-rmse:323.252\n",
            "[236]\tvalidation_0-rmse:319.788\tvalidation_1-rmse:323.169\n",
            "[237]\tvalidation_0-rmse:319.534\tvalidation_1-rmse:322.9\n",
            "[238]\tvalidation_0-rmse:319.363\tvalidation_1-rmse:322.722\n",
            "[239]\tvalidation_0-rmse:318.601\tvalidation_1-rmse:321.943\n",
            "[240]\tvalidation_0-rmse:318.512\tvalidation_1-rmse:321.855\n",
            "[241]\tvalidation_0-rmse:318.354\tvalidation_1-rmse:321.691\n",
            "[242]\tvalidation_0-rmse:318.311\tvalidation_1-rmse:321.645\n",
            "[243]\tvalidation_0-rmse:318.237\tvalidation_1-rmse:321.58\n",
            "[244]\tvalidation_0-rmse:318.15\tvalidation_1-rmse:321.495\n",
            "[245]\tvalidation_0-rmse:318.122\tvalidation_1-rmse:321.469\n",
            "[246]\tvalidation_0-rmse:318.091\tvalidation_1-rmse:321.436\n",
            "[247]\tvalidation_0-rmse:318.084\tvalidation_1-rmse:321.429\n",
            "[248]\tvalidation_0-rmse:317.913\tvalidation_1-rmse:321.248\n",
            "[249]\tvalidation_0-rmse:317.732\tvalidation_1-rmse:321.053\n"
          ],
          "name": "stdout"
        },
        {
          "output_type": "execute_result",
          "data": {
            "text/plain": [
              "XGBRegressor(base_score=0.5, booster='gbtree', colsample_bylevel=1,\n",
              "             colsample_bynode=1, colsample_bytree=1, gamma=0,\n",
              "             importance_type='gain', learning_rate=0.1, max_delta_step=0,\n",
              "             max_depth=3, min_child_weight=1, missing=None, n_estimators=250,\n",
              "             n_jobs=-1, nthread=None, objective='reg:linear', random_state=0,\n",
              "             reg_alpha=0, reg_lambda=1, scale_pos_weight=1, seed=None,\n",
              "             silent=None, subsample=1, verbosity=1)"
            ]
          },
          "metadata": {
            "tags": []
          },
          "execution_count": 14
        }
      ]
    },
    {
      "cell_type": "code",
      "metadata": {
        "id": "spjlp_Q4imIu",
        "colab_type": "code",
        "outputId": "fcca71ec-ac30-499e-e078-43f2757b08d8",
        "colab": {
          "base_uri": "https://localhost:8080/",
          "height": 910
        }
      },
      "source": [
        "plt.rcParams[\"figure.figsize\"] = (15,15)\n",
        "xgb.plot_importance(model)"
      ],
      "execution_count": 0,
      "outputs": [
        {
          "output_type": "execute_result",
          "data": {
            "text/plain": [
              "<matplotlib.axes._subplots.AxesSubplot at 0x7f34e9969978>"
            ]
          },
          "metadata": {
            "tags": []
          },
          "execution_count": 73
        },
        {
          "output_type": "display_data",
          "data": {
            "image/png": "[encoded data removed]",
            "text/plain": [
              "<Figure size 1080x1080 with 1 Axes>"
            ]
          },
          "metadata": {
            "tags": []
          }
        }
      ]
    },
    {
      "cell_type": "code",
      "metadata": {
        "id": "H-8ZQfOgGk_W",
        "colab_type": "code",
        "outputId": "bf9f82f2-b2fe-456d-e2bb-50d39d6fc565",
        "colab": {
          "base_uri": "https://localhost:8080/",
          "height": 180
        }
      },
      "source": [
        "predictions = model.predict(X_test)\n",
        "predictions"
      ],
      "execution_count": 0,
      "outputs": [
        {
          "output_type": "error",
          "ename": "NameError",
          "evalue": "ignored",
          "traceback": [
            "\u001b[0;31m---------------------------------------------------------------------------\u001b[0m",
            "\u001b[0;31mNameError\u001b[0m                                 Traceback (most recent call last)",
            "\u001b[0;32m<ipython-input-4-91c9a5f7a789>\u001b[0m in \u001b[0;36m<module>\u001b[0;34m()\u001b[0m\n\u001b[0;32m----> 1\u001b[0;31m \u001b[0mpredictions\u001b[0m \u001b[0;34m=\u001b[0m \u001b[0mmodel\u001b[0m\u001b[0;34m.\u001b[0m\u001b[0mpredict\u001b[0m\u001b[0;34m(\u001b[0m\u001b[0mX_test\u001b[0m\u001b[0;34m)\u001b[0m\u001b[0;34m\u001b[0m\u001b[0;34m\u001b[0m\u001b[0m\n\u001b[0m\u001b[1;32m      2\u001b[0m \u001b[0mpredictions\u001b[0m\u001b[0;34m\u001b[0m\u001b[0;34m\u001b[0m\u001b[0m\n",
            "\u001b[0;31mNameError\u001b[0m: name 'X_test' is not defined"
          ]
        }
      ]
    },
    {
      "cell_type": "code",
      "metadata": {
        "id": "lCvkg-gqKp4T",
        "colab_type": "code",
        "outputId": "8195ad62-73b9-4473-e459-d6cd9ac289d7",
        "colab": {
          "base_uri": "https://localhost:8080/",
          "height": 34
        }
      },
      "source": [
        "rmse = np.sqrt(mean_squared_error(y_test, predictions))\n",
        "rmse"
      ],
      "execution_count": 0,
      "outputs": [
        {
          "output_type": "execute_result",
          "data": {
            "text/plain": [
              "316.17524316152435"
            ]
          },
          "metadata": {
            "tags": []
          },
          "execution_count": 36
        }
      ]
    },
    {
      "cell_type": "code",
      "metadata": {
        "id": "_-h-47RjSdra",
        "colab_type": "code",
        "colab": {}
      },
      "source": [
        "pickle.dump(model, open(\"xgbregressor_airbnb_large.pickle.dat\", \"wb\"))"
      ],
      "execution_count": 0,
      "outputs": []
    },
    {
      "cell_type": "code",
      "metadata": {
        "id": "mmTGk90-3_Vs",
        "colab_type": "code",
        "outputId": "68d2a622-697d-40f7-a55f-4783323e541d",
        "colab": {
          "base_uri": "https://localhost:8080/",
          "height": 34
        }
      },
      "source": [
        "model = pickle.load(open(\"xgbregressor_airbnb_large.pickle.dat\", \"rb\"))"
      ],
      "execution_count": 0,
      "outputs": [
        {
          "output_type": "stream",
          "text": [
            "[23:53:43] WARNING: /workspace/src/objective/regression_obj.cu:152: reg:linear is now deprecated in favor of reg:squarederror.\n"
          ],
          "name": "stdout"
        }
      ]
    },
    {
      "cell_type": "code",
      "metadata": {
        "id": "fY0_P01lT6LF",
        "colab_type": "code",
        "outputId": "9525c978-ac87-4900-f567-3666ffe2f85b",
        "colab": {
          "base_uri": "https://localhost:8080/",
          "height": 204
        }
      },
      "source": [
        "test_results = pd.DataFrame(data={'True':y_test, 'Predicted':predictions}, columns= ['True','Predicted'] )\n",
        "test_results.head()"
      ],
      "execution_count": 0,
      "outputs": [
        {
          "output_type": "execute_result",
          "data": {
            "text/html": [
              "<div>\n",
              "<style scoped>\n",
              "    .dataframe tbody tr th:only-of-type {\n",
              "        vertical-align: middle;\n",
              "    }\n",
              "\n",
              "    .dataframe tbody tr th {\n",
              "        vertical-align: top;\n",
              "    }\n",
              "\n",
              "    .dataframe thead th {\n",
              "        text-align: right;\n",
              "    }\n",
              "</style>\n",
              "<table border=\"1\" class=\"dataframe\">\n",
              "  <thead>\n",
              "    <tr style=\"text-align: right;\">\n",
              "      <th></th>\n",
              "      <th>True</th>\n",
              "      <th>Predicted</th>\n",
              "    </tr>\n",
              "  </thead>\n",
              "  <tbody>\n",
              "    <tr>\n",
              "      <th>8640873</th>\n",
              "      <td>198.0</td>\n",
              "      <td>215.669327</td>\n",
              "    </tr>\n",
              "    <tr>\n",
              "      <th>6536194</th>\n",
              "      <td>55.0</td>\n",
              "      <td>94.267174</td>\n",
              "    </tr>\n",
              "    <tr>\n",
              "      <th>13622513</th>\n",
              "      <td>159.0</td>\n",
              "      <td>209.943832</td>\n",
              "    </tr>\n",
              "    <tr>\n",
              "      <th>8571888</th>\n",
              "      <td>75.0</td>\n",
              "      <td>93.309044</td>\n",
              "    </tr>\n",
              "    <tr>\n",
              "      <th>1630511</th>\n",
              "      <td>101.0</td>\n",
              "      <td>74.202400</td>\n",
              "    </tr>\n",
              "  </tbody>\n",
              "</table>\n",
              "</div>"
            ],
            "text/plain": [
              "           True   Predicted\n",
              "8640873   198.0  215.669327\n",
              "6536194    55.0   94.267174\n",
              "13622513  159.0  209.943832\n",
              "8571888    75.0   93.309044\n",
              "1630511   101.0   74.202400"
            ]
          },
          "metadata": {
            "tags": []
          },
          "execution_count": 51
        }
      ]
    },
    {
      "cell_type": "code",
      "metadata": {
        "id": "DyFbory9Umcq",
        "colab_type": "code",
        "colab": {}
      },
      "source": [
        "xgbregressor_matrix = xgb.DMatrix(X_train, y_train)"
      ],
      "execution_count": 0,
      "outputs": []
    },
    {
      "cell_type": "code",
      "metadata": {
        "id": "G1_j84bBUmG7",
        "colab_type": "code",
        "outputId": "1188badb-af0a-441e-9c27-76194774ca55",
        "colab": {
          "base_uri": "https://localhost:8080/",
          "height": 894
        }
      },
      "source": [
        "test_results.plot.scatter(x = 'True', y = 'Predicted')"
      ],
      "execution_count": 0,
      "outputs": [
        {
          "output_type": "execute_result",
          "data": {
            "text/plain": [
              "<matplotlib.axes._subplots.AxesSubplot at 0x7f34cdb49ba8>"
            ]
          },
          "metadata": {
            "tags": []
          },
          "execution_count": 65
        },
        {
          "output_type": "display_data",
          "data": {
            "image/png": "[encoded data removed]",
            "text/plain": [
              "<Figure size 1080x1080 with 1 Axes>"
            ]
          },
          "metadata": {
            "tags": []
          }
        }
      ]
    }
  ]
}